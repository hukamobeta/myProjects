{
 "cells": [
  {
   "cell_type": "markdown",
   "metadata": {},
   "source": [
    "# Работа с Excel"
   ]
  },
  {
   "cell_type": "markdown",
   "metadata": {},
   "source": [
    "Материалы:\n",
    "* Макрушин С.В. Лекция 7: Работа с Excel\n",
    "* https://docs.xlwings.org/en/stable/quickstart.html\n",
    "* https://nbviewer.jupyter.org/github/pybokeh/jupyter_notebooks/blob/master/xlwings/Excel_Formatting.ipynb#search_text\n"
   ]
  },
  {
   "cell_type": "markdown",
   "metadata": {},
   "source": [
    "## Задачи для совместного разбора"
   ]
  },
  {
   "cell_type": "code",
   "execution_count": 6,
   "metadata": {},
   "outputs": [],
   "source": [
    "import pandas as pd\n",
    "import numpy as np\n",
    "import xlwings as xw\n",
    "\n",
    "from pathlib import Path "
   ]
  },
  {
   "cell_type": "code",
   "execution_count": 19,
   "metadata": {},
   "outputs": [
    {
     "data": {
      "text/plain": [
       "PosixPath('recipes_sample_with_tags_ingredients.csv')"
      ]
     },
     "execution_count": 19,
     "metadata": {},
     "output_type": "execute_result"
    }
   ],
   "source": [
    "path = Path('recipes_sample_with_tags_ingredients.csv')\n",
    "path"
   ]
  },
  {
   "cell_type": "markdown",
   "metadata": {},
   "source": [
    "1. На листе \"Рецептура\" файла `себестоимостьА_в1.xlsx` для области \"Пшеничный хлеб\" рассчитать себестоимость всех видов продукции."
   ]
  },
  {
   "cell_type": "code",
   "execution_count": 38,
   "metadata": {},
   "outputs": [
    {
     "data": {
      "text/plain": [
       "array([[0.2  , 0.4  , 0.02 , 0.02 , 0.01 , 0.005, 0.1  ,   nan,   nan],\n",
       "       [0.07 , 0.25 , 0.01 , 0.06 , 0.015,   nan, 0.06 , 0.05 ,   nan],\n",
       "       [0.12 , 0.22 , 0.005,   nan, 0.009, 0.005,   nan, 0.05 , 0.03 ],\n",
       "       [0.12 , 0.23 , 0.01 ,   nan, 0.015,   nan,   nan,   nan, 0.05 ]])"
      ]
     },
     "execution_count": 38,
     "metadata": {},
     "output_type": "execute_result"
    }
   ],
   "source": [
    "wb1 = xw.Book(\"себестоимостьА_в1.xlsx\")\n",
    "sheet = wb1.sheets[\"Рецептура\"]\n",
    "temp = sheet.range(\"G7:O10\").options(np.array).value\n",
    "temp"
   ]
  },
  {
   "cell_type": "code",
   "execution_count": 39,
   "metadata": {},
   "outputs": [
    {
     "data": {
      "text/plain": [
       "array([  7.,  10., 184.,  19.,   7., 290., 105.,  83., 260.])"
      ]
     },
     "execution_count": 39,
     "metadata": {},
     "output_type": "execute_result"
    }
   ],
   "source": [
    "unit_price = sheet.range(\"G14:O14\").options(np.array).value\n",
    "unit_price"
   ]
  },
  {
   "cell_type": "code",
   "execution_count": 40,
   "metadata": {},
   "outputs": [
    {
     "data": {
      "text/plain": [
       "array([21.48 , 16.525, 17.423, 18.085])"
      ]
     },
     "execution_count": 40,
     "metadata": {},
     "output_type": "execute_result"
    }
   ],
   "source": [
    "cost_price = np.nan_to_num(temp * unit_price).sum(axis=1)\n",
    "cost_price"
   ]
  },
  {
   "cell_type": "markdown",
   "metadata": {},
   "source": [
    "2. Результаты расчетов 1.1 сохранить в отдельном столбце области \"Пшеничный хлеб\""
   ]
  },
  {
   "cell_type": "code",
   "execution_count": 41,
   "metadata": {},
   "outputs": [],
   "source": [
    "sheet.range(\"T7:T10\").options(transpose=True).value = cost_price\n",
    "sheet.range(\"T6\").value = \"Себестоимость\""
   ]
  },
  {
   "cell_type": "markdown",
   "metadata": {},
   "source": [
    "3. Приблизить форматирование столбца, добавленного в задаче 2 к оформлению всей области."
   ]
  },
  {
   "cell_type": "code",
   "execution_count": 61,
   "metadata": {},
   "outputs": [],
   "source": [
    "sheet.range(\"T4:T6\").api.merge()\n",
    "sheet.range(\"T4:T6\").color = (255,200,0)\n",
    "sheet.range(\"T7:T10\").color = (244,244,180)"
   ]
  },
  {
   "cell_type": "markdown",
   "metadata": {},
   "source": [
    "4. Выполнить 3 с помощью \"протягиваемых\" формул."
   ]
  },
  {
   "cell_type": "code",
   "execution_count": 13,
   "metadata": {},
   "outputs": [],
   "source": [
    "sheet.range(\"U7\").formula = \"=SUMPRODUCT(G7:O7, $G$14:$O$14)\"\n",
    "sheet.range(\"U7\").api.autofill(destination=sheet.range(\"U7:U10\").api , type=xw.constants.AutoFillType.xlFillDefault)"
   ]
  },
  {
   "cell_type": "markdown",
   "metadata": {},
   "source": [
    "## Лабораторная работа 7.1"
   ]
  },
  {
   "cell_type": "markdown",
   "metadata": {},
   "source": [
    "1. Загрузите данные из файлов `reviews_sample.csv` (__ЛР2__) и `recipes_sample.csv` (__ЛР5__) в виде `pd.DataFrame`. Обратите внимание на корректное считывание столбца(ов) с индексами. Оставьте в таблице с рецептами следующие столбцы: `id`, `name`, `minutes`, `submitted`, `description`, `n_ingredients`"
   ]
  },
  {
   "cell_type": "code",
   "execution_count": 17,
   "metadata": {},
   "outputs": [
    {
     "data": {
      "text/html": [
       "<div>\n",
       "<style scoped>\n",
       "    .dataframe tbody tr th:only-of-type {\n",
       "        vertical-align: middle;\n",
       "    }\n",
       "\n",
       "    .dataframe tbody tr th {\n",
       "        vertical-align: top;\n",
       "    }\n",
       "\n",
       "    .dataframe thead th {\n",
       "        text-align: right;\n",
       "    }\n",
       "</style>\n",
       "<table border=\"1\" class=\"dataframe\">\n",
       "  <thead>\n",
       "    <tr style=\"text-align: right;\">\n",
       "      <th></th>\n",
       "      <th>user_id</th>\n",
       "      <th>recipe_id</th>\n",
       "      <th>date</th>\n",
       "      <th>rating</th>\n",
       "      <th>review</th>\n",
       "    </tr>\n",
       "    <tr>\n",
       "      <th>index</th>\n",
       "      <th></th>\n",
       "      <th></th>\n",
       "      <th></th>\n",
       "      <th></th>\n",
       "      <th></th>\n",
       "    </tr>\n",
       "  </thead>\n",
       "  <tbody>\n",
       "    <tr>\n",
       "      <th>370476</th>\n",
       "      <td>21752</td>\n",
       "      <td>57993</td>\n",
       "      <td>2003-05-01</td>\n",
       "      <td>5</td>\n",
       "      <td>Last week whole sides of frozen salmon fillet ...</td>\n",
       "    </tr>\n",
       "    <tr>\n",
       "      <th>624300</th>\n",
       "      <td>431813</td>\n",
       "      <td>142201</td>\n",
       "      <td>2007-09-16</td>\n",
       "      <td>5</td>\n",
       "      <td>So simple and so tasty!  I used a yellow capsi...</td>\n",
       "    </tr>\n",
       "    <tr>\n",
       "      <th>187037</th>\n",
       "      <td>400708</td>\n",
       "      <td>252013</td>\n",
       "      <td>2008-01-10</td>\n",
       "      <td>4</td>\n",
       "      <td>Very nice breakfast HH, easy to make and yummy...</td>\n",
       "    </tr>\n",
       "    <tr>\n",
       "      <th>706134</th>\n",
       "      <td>2001852463</td>\n",
       "      <td>404716</td>\n",
       "      <td>2017-12-11</td>\n",
       "      <td>5</td>\n",
       "      <td>These are a favorite for the holidays and so e...</td>\n",
       "    </tr>\n",
       "    <tr>\n",
       "      <th>312179</th>\n",
       "      <td>95810</td>\n",
       "      <td>129396</td>\n",
       "      <td>2008-03-14</td>\n",
       "      <td>5</td>\n",
       "      <td>Excellent soup!  The tomato flavor is just gre...</td>\n",
       "    </tr>\n",
       "    <tr>\n",
       "      <th>...</th>\n",
       "      <td>...</td>\n",
       "      <td>...</td>\n",
       "      <td>...</td>\n",
       "      <td>...</td>\n",
       "      <td>...</td>\n",
       "    </tr>\n",
       "    <tr>\n",
       "      <th>1013457</th>\n",
       "      <td>1270706</td>\n",
       "      <td>335534</td>\n",
       "      <td>2009-05-17</td>\n",
       "      <td>4</td>\n",
       "      <td>This recipe was great! I made it last night. I...</td>\n",
       "    </tr>\n",
       "    <tr>\n",
       "      <th>158736</th>\n",
       "      <td>2282344</td>\n",
       "      <td>8701</td>\n",
       "      <td>2012-06-03</td>\n",
       "      <td>0</td>\n",
       "      <td>This recipe is outstanding. I followed the rec...</td>\n",
       "    </tr>\n",
       "    <tr>\n",
       "      <th>1059834</th>\n",
       "      <td>689540</td>\n",
       "      <td>222001</td>\n",
       "      <td>2008-04-08</td>\n",
       "      <td>5</td>\n",
       "      <td>Well, we were not a crowd but it was a fabulou...</td>\n",
       "    </tr>\n",
       "    <tr>\n",
       "      <th>453285</th>\n",
       "      <td>2000242659</td>\n",
       "      <td>354979</td>\n",
       "      <td>2015-06-02</td>\n",
       "      <td>5</td>\n",
       "      <td>I have been a steak eater and dedicated BBQ gr...</td>\n",
       "    </tr>\n",
       "    <tr>\n",
       "      <th>691207</th>\n",
       "      <td>463435</td>\n",
       "      <td>415599</td>\n",
       "      <td>2010-09-30</td>\n",
       "      <td>5</td>\n",
       "      <td>Wonderful and simple to prepare seasoning blen...</td>\n",
       "    </tr>\n",
       "  </tbody>\n",
       "</table>\n",
       "<p>126696 rows × 5 columns</p>\n",
       "</div>"
      ],
      "text/plain": [
       "            user_id  recipe_id       date  rating  \\\n",
       "index                                               \n",
       "370476        21752      57993 2003-05-01       5   \n",
       "624300       431813     142201 2007-09-16       5   \n",
       "187037       400708     252013 2008-01-10       4   \n",
       "706134   2001852463     404716 2017-12-11       5   \n",
       "312179        95810     129396 2008-03-14       5   \n",
       "...             ...        ...        ...     ...   \n",
       "1013457     1270706     335534 2009-05-17       4   \n",
       "158736      2282344       8701 2012-06-03       0   \n",
       "1059834      689540     222001 2008-04-08       5   \n",
       "453285   2000242659     354979 2015-06-02       5   \n",
       "691207       463435     415599 2010-09-30       5   \n",
       "\n",
       "                                                    review  \n",
       "index                                                       \n",
       "370476   Last week whole sides of frozen salmon fillet ...  \n",
       "624300   So simple and so tasty!  I used a yellow capsi...  \n",
       "187037   Very nice breakfast HH, easy to make and yummy...  \n",
       "706134   These are a favorite for the holidays and so e...  \n",
       "312179   Excellent soup!  The tomato flavor is just gre...  \n",
       "...                                                    ...  \n",
       "1013457  This recipe was great! I made it last night. I...  \n",
       "158736   This recipe is outstanding. I followed the rec...  \n",
       "1059834  Well, we were not a crowd but it was a fabulou...  \n",
       "453285   I have been a steak eater and dedicated BBQ gr...  \n",
       "691207   Wonderful and simple to prepare seasoning blen...  \n",
       "\n",
       "[126696 rows x 5 columns]"
      ]
     },
     "execution_count": 17,
     "metadata": {},
     "output_type": "execute_result"
    }
   ],
   "source": [
    "reviews_sample = pd.read_csv(\"reviews_sample (2).csv\", sep=\",\", parse_dates=['date'])\n",
    "reviews_sample = reviews_sample.rename(columns={\"Unnamed: 0\": \"index\"})\n",
    "reviews_sample = reviews_sample.set_index(\"index\")\n",
    "reviews_sample"
   ]
  },
  {
   "cell_type": "code",
   "execution_count": 22,
   "metadata": {},
   "outputs": [
    {
     "data": {
      "text/html": [
       "<div>\n",
       "<style scoped>\n",
       "    .dataframe tbody tr th:only-of-type {\n",
       "        vertical-align: middle;\n",
       "    }\n",
       "\n",
       "    .dataframe tbody tr th {\n",
       "        vertical-align: top;\n",
       "    }\n",
       "\n",
       "    .dataframe thead th {\n",
       "        text-align: right;\n",
       "    }\n",
       "</style>\n",
       "<table border=\"1\" class=\"dataframe\">\n",
       "  <thead>\n",
       "    <tr style=\"text-align: right;\">\n",
       "      <th></th>\n",
       "      <th>id</th>\n",
       "      <th>name</th>\n",
       "      <th>minutes</th>\n",
       "      <th>contributor_id</th>\n",
       "      <th>submitted</th>\n",
       "      <th>n_steps</th>\n",
       "      <th>description</th>\n",
       "      <th>n_ingredients</th>\n",
       "      <th>n_tags</th>\n",
       "      <th>tags</th>\n",
       "      <th>ingredients</th>\n",
       "    </tr>\n",
       "    <tr>\n",
       "      <th>index</th>\n",
       "      <th></th>\n",
       "      <th></th>\n",
       "      <th></th>\n",
       "      <th></th>\n",
       "      <th></th>\n",
       "      <th></th>\n",
       "      <th></th>\n",
       "      <th></th>\n",
       "      <th></th>\n",
       "      <th></th>\n",
       "      <th></th>\n",
       "    </tr>\n",
       "  </thead>\n",
       "  <tbody>\n",
       "    <tr>\n",
       "      <th>0</th>\n",
       "      <td>44123</td>\n",
       "      <td>george s at the cove  black bean soup</td>\n",
       "      <td>90</td>\n",
       "      <td>35193</td>\n",
       "      <td>2002-10-25</td>\n",
       "      <td>11</td>\n",
       "      <td>an original recipe created by chef scott meska...</td>\n",
       "      <td>18</td>\n",
       "      <td>25</td>\n",
       "      <td>weeknight;time-to-make;course;main-ingredient;...</td>\n",
       "      <td>unsalted butter*carrot*onion*celery*broccoli s...</td>\n",
       "    </tr>\n",
       "    <tr>\n",
       "      <th>1</th>\n",
       "      <td>67664</td>\n",
       "      <td>healthy for them  yogurt popsicles</td>\n",
       "      <td>10</td>\n",
       "      <td>91970</td>\n",
       "      <td>2003-07-26</td>\n",
       "      <td>3</td>\n",
       "      <td>my children and their friends ask for my homem...</td>\n",
       "      <td>3</td>\n",
       "      <td>31</td>\n",
       "      <td>15-minutes-or-less;time-to-make;course;prepara...</td>\n",
       "      <td>milk*frozen juice concentrate*plain yogurt</td>\n",
       "    </tr>\n",
       "    <tr>\n",
       "      <th>2</th>\n",
       "      <td>38798</td>\n",
       "      <td>i can t believe it s spinach</td>\n",
       "      <td>30</td>\n",
       "      <td>1533</td>\n",
       "      <td>2002-08-29</td>\n",
       "      <td>5</td>\n",
       "      <td>these were so go, it surprised even me.</td>\n",
       "      <td>8</td>\n",
       "      <td>17</td>\n",
       "      <td>30-minutes-or-less;time-to-make;course;main-in...</td>\n",
       "      <td>onion*frozen chopped spinach*eggs*garlic powde...</td>\n",
       "    </tr>\n",
       "    <tr>\n",
       "      <th>3</th>\n",
       "      <td>35173</td>\n",
       "      <td>italian  gut busters</td>\n",
       "      <td>45</td>\n",
       "      <td>22724</td>\n",
       "      <td>2002-07-27</td>\n",
       "      <td>7</td>\n",
       "      <td>my sister-in-law made these for us at a family...</td>\n",
       "      <td>9</td>\n",
       "      <td>11</td>\n",
       "      <td>60-minutes-or-less;time-to-make;course;prepara...</td>\n",
       "      <td>sandwich bun*good seasonings italian salad dre...</td>\n",
       "    </tr>\n",
       "    <tr>\n",
       "      <th>4</th>\n",
       "      <td>84797</td>\n",
       "      <td>love is in the air  beef fondue   sauces</td>\n",
       "      <td>25</td>\n",
       "      <td>4470</td>\n",
       "      <td>2004-02-23</td>\n",
       "      <td>4</td>\n",
       "      <td>i think a fondue is a very romantic casual din...</td>\n",
       "      <td>12</td>\n",
       "      <td>19</td>\n",
       "      <td>30-minutes-or-less;time-to-make;course;main-in...</td>\n",
       "      <td>beef steaks*vegetable oil*spicy mustard*fresh ...</td>\n",
       "    </tr>\n",
       "    <tr>\n",
       "      <th>...</th>\n",
       "      <td>...</td>\n",
       "      <td>...</td>\n",
       "      <td>...</td>\n",
       "      <td>...</td>\n",
       "      <td>...</td>\n",
       "      <td>...</td>\n",
       "      <td>...</td>\n",
       "      <td>...</td>\n",
       "      <td>...</td>\n",
       "      <td>...</td>\n",
       "      <td>...</td>\n",
       "    </tr>\n",
       "    <tr>\n",
       "      <th>29995</th>\n",
       "      <td>267661</td>\n",
       "      <td>zurie s holey rustic olive and cheddar bread</td>\n",
       "      <td>80</td>\n",
       "      <td>200862</td>\n",
       "      <td>2007-11-25</td>\n",
       "      <td>16</td>\n",
       "      <td>this is based on a french recipe but i changed...</td>\n",
       "      <td>10</td>\n",
       "      <td>18</td>\n",
       "      <td>time-to-make;course;main-ingredient;cuisine;pr...</td>\n",
       "      <td>dry white wine*eggs*cheddar cheese*baking powd...</td>\n",
       "    </tr>\n",
       "    <tr>\n",
       "      <th>29996</th>\n",
       "      <td>386977</td>\n",
       "      <td>zwetschgenkuchen  bavarian plum cake</td>\n",
       "      <td>240</td>\n",
       "      <td>177443</td>\n",
       "      <td>2009-08-24</td>\n",
       "      <td>22</td>\n",
       "      <td>this is a traditional fresh plum cake, thought...</td>\n",
       "      <td>11</td>\n",
       "      <td>19</td>\n",
       "      <td>time-to-make;course;main-ingredient;cuisine;pr...</td>\n",
       "      <td>unsalted butter*milk*flour*salt*vanilla*all-pu...</td>\n",
       "    </tr>\n",
       "    <tr>\n",
       "      <th>29997</th>\n",
       "      <td>103312</td>\n",
       "      <td>zwiebelkuchen   southwest german onion cake</td>\n",
       "      <td>75</td>\n",
       "      <td>161745</td>\n",
       "      <td>2004-11-03</td>\n",
       "      <td>10</td>\n",
       "      <td>this is a traditional late summer early fall s...</td>\n",
       "      <td>13</td>\n",
       "      <td>20</td>\n",
       "      <td>time-to-make;course;main-ingredient;cuisine;pr...</td>\n",
       "      <td>onion*milk*eggs*butter*flour*salt*pepper*sugar...</td>\n",
       "    </tr>\n",
       "    <tr>\n",
       "      <th>29998</th>\n",
       "      <td>486161</td>\n",
       "      <td>zydeco soup</td>\n",
       "      <td>60</td>\n",
       "      <td>227978</td>\n",
       "      <td>2012-08-29</td>\n",
       "      <td>7</td>\n",
       "      <td>this is a delicious soup that i originally fou...</td>\n",
       "      <td>22</td>\n",
       "      <td>20</td>\n",
       "      <td>ham;60-minutes-or-less;time-to-make;course;mai...</td>\n",
       "      <td>onion*celery*dried thyme*dried oregano*fresh p...</td>\n",
       "    </tr>\n",
       "    <tr>\n",
       "      <th>29999</th>\n",
       "      <td>298512</td>\n",
       "      <td>cookies by design   cookies on a stick</td>\n",
       "      <td>29</td>\n",
       "      <td>506822</td>\n",
       "      <td>2008-04-15</td>\n",
       "      <td>9</td>\n",
       "      <td>i've heard of the 'cookies by design' company,...</td>\n",
       "      <td>10</td>\n",
       "      <td>12</td>\n",
       "      <td>30-minutes-or-less;time-to-make;course;prepara...</td>\n",
       "      <td>butter*sour cream*egg*bisquick*light brown sug...</td>\n",
       "    </tr>\n",
       "  </tbody>\n",
       "</table>\n",
       "<p>30000 rows × 11 columns</p>\n",
       "</div>"
      ],
      "text/plain": [
       "           id                                          name  minutes  \\\n",
       "index                                                                  \n",
       "0       44123         george s at the cove  black bean soup       90   \n",
       "1       67664            healthy for them  yogurt popsicles       10   \n",
       "2       38798                  i can t believe it s spinach       30   \n",
       "3       35173                          italian  gut busters       45   \n",
       "4       84797      love is in the air  beef fondue   sauces       25   \n",
       "...       ...                                           ...      ...   \n",
       "29995  267661  zurie s holey rustic olive and cheddar bread       80   \n",
       "29996  386977          zwetschgenkuchen  bavarian plum cake      240   \n",
       "29997  103312   zwiebelkuchen   southwest german onion cake       75   \n",
       "29998  486161                                   zydeco soup       60   \n",
       "29999  298512        cookies by design   cookies on a stick       29   \n",
       "\n",
       "       contributor_id  submitted  n_steps  \\\n",
       "index                                       \n",
       "0               35193 2002-10-25       11   \n",
       "1               91970 2003-07-26        3   \n",
       "2                1533 2002-08-29        5   \n",
       "3               22724 2002-07-27        7   \n",
       "4                4470 2004-02-23        4   \n",
       "...               ...        ...      ...   \n",
       "29995          200862 2007-11-25       16   \n",
       "29996          177443 2009-08-24       22   \n",
       "29997          161745 2004-11-03       10   \n",
       "29998          227978 2012-08-29        7   \n",
       "29999          506822 2008-04-15        9   \n",
       "\n",
       "                                             description  n_ingredients  \\\n",
       "index                                                                     \n",
       "0      an original recipe created by chef scott meska...             18   \n",
       "1      my children and their friends ask for my homem...              3   \n",
       "2                these were so go, it surprised even me.              8   \n",
       "3      my sister-in-law made these for us at a family...              9   \n",
       "4      i think a fondue is a very romantic casual din...             12   \n",
       "...                                                  ...            ...   \n",
       "29995  this is based on a french recipe but i changed...             10   \n",
       "29996  this is a traditional fresh plum cake, thought...             11   \n",
       "29997  this is a traditional late summer early fall s...             13   \n",
       "29998  this is a delicious soup that i originally fou...             22   \n",
       "29999  i've heard of the 'cookies by design' company,...             10   \n",
       "\n",
       "       n_tags                                               tags  \\\n",
       "index                                                              \n",
       "0          25  weeknight;time-to-make;course;main-ingredient;...   \n",
       "1          31  15-minutes-or-less;time-to-make;course;prepara...   \n",
       "2          17  30-minutes-or-less;time-to-make;course;main-in...   \n",
       "3          11  60-minutes-or-less;time-to-make;course;prepara...   \n",
       "4          19  30-minutes-or-less;time-to-make;course;main-in...   \n",
       "...       ...                                                ...   \n",
       "29995      18  time-to-make;course;main-ingredient;cuisine;pr...   \n",
       "29996      19  time-to-make;course;main-ingredient;cuisine;pr...   \n",
       "29997      20  time-to-make;course;main-ingredient;cuisine;pr...   \n",
       "29998      20  ham;60-minutes-or-less;time-to-make;course;mai...   \n",
       "29999      12  30-minutes-or-less;time-to-make;course;prepara...   \n",
       "\n",
       "                                             ingredients  \n",
       "index                                                     \n",
       "0      unsalted butter*carrot*onion*celery*broccoli s...  \n",
       "1             milk*frozen juice concentrate*plain yogurt  \n",
       "2      onion*frozen chopped spinach*eggs*garlic powde...  \n",
       "3      sandwich bun*good seasonings italian salad dre...  \n",
       "4      beef steaks*vegetable oil*spicy mustard*fresh ...  \n",
       "...                                                  ...  \n",
       "29995  dry white wine*eggs*cheddar cheese*baking powd...  \n",
       "29996  unsalted butter*milk*flour*salt*vanilla*all-pu...  \n",
       "29997  onion*milk*eggs*butter*flour*salt*pepper*sugar...  \n",
       "29998  onion*celery*dried thyme*dried oregano*fresh p...  \n",
       "29999  butter*sour cream*egg*bisquick*light brown sug...  \n",
       "\n",
       "[30000 rows x 11 columns]"
      ]
     },
     "execution_count": 22,
     "metadata": {},
     "output_type": "execute_result"
    }
   ],
   "source": [
    "recipes_sample_with_tags_ingredients = pd.read_csv(\"recipes_sample_with_tags_ingredients.csv\", sep=\",\", parse_dates=['submitted'])\n",
    "recipes_sample_with_tags_ingredients = recipes_sample_with_tags_ingredients.rename(columns={\"Unnamed: 0\": \"index\"})\n",
    "recipes_sample_with_tags_ingredients = recipes_sample_with_tags_ingredients.set_index(\"index\")\n",
    "recipes_sample_with_tags_ingredients"
   ]
  },
  {
   "cell_type": "code",
   "execution_count": 23,
   "metadata": {},
   "outputs": [
    {
     "data": {
      "text/html": [
       "<div>\n",
       "<style scoped>\n",
       "    .dataframe tbody tr th:only-of-type {\n",
       "        vertical-align: middle;\n",
       "    }\n",
       "\n",
       "    .dataframe tbody tr th {\n",
       "        vertical-align: top;\n",
       "    }\n",
       "\n",
       "    .dataframe thead th {\n",
       "        text-align: right;\n",
       "    }\n",
       "</style>\n",
       "<table border=\"1\" class=\"dataframe\">\n",
       "  <thead>\n",
       "    <tr style=\"text-align: right;\">\n",
       "      <th></th>\n",
       "      <th>id</th>\n",
       "      <th>name</th>\n",
       "      <th>minutes</th>\n",
       "      <th>submitted</th>\n",
       "      <th>description</th>\n",
       "      <th>n_ingredients</th>\n",
       "    </tr>\n",
       "    <tr>\n",
       "      <th>index</th>\n",
       "      <th></th>\n",
       "      <th></th>\n",
       "      <th></th>\n",
       "      <th></th>\n",
       "      <th></th>\n",
       "      <th></th>\n",
       "    </tr>\n",
       "  </thead>\n",
       "  <tbody>\n",
       "    <tr>\n",
       "      <th>0</th>\n",
       "      <td>44123</td>\n",
       "      <td>george s at the cove  black bean soup</td>\n",
       "      <td>90</td>\n",
       "      <td>2002-10-25</td>\n",
       "      <td>an original recipe created by chef scott meska...</td>\n",
       "      <td>18</td>\n",
       "    </tr>\n",
       "    <tr>\n",
       "      <th>1</th>\n",
       "      <td>67664</td>\n",
       "      <td>healthy for them  yogurt popsicles</td>\n",
       "      <td>10</td>\n",
       "      <td>2003-07-26</td>\n",
       "      <td>my children and their friends ask for my homem...</td>\n",
       "      <td>3</td>\n",
       "    </tr>\n",
       "    <tr>\n",
       "      <th>2</th>\n",
       "      <td>38798</td>\n",
       "      <td>i can t believe it s spinach</td>\n",
       "      <td>30</td>\n",
       "      <td>2002-08-29</td>\n",
       "      <td>these were so go, it surprised even me.</td>\n",
       "      <td>8</td>\n",
       "    </tr>\n",
       "    <tr>\n",
       "      <th>3</th>\n",
       "      <td>35173</td>\n",
       "      <td>italian  gut busters</td>\n",
       "      <td>45</td>\n",
       "      <td>2002-07-27</td>\n",
       "      <td>my sister-in-law made these for us at a family...</td>\n",
       "      <td>9</td>\n",
       "    </tr>\n",
       "    <tr>\n",
       "      <th>4</th>\n",
       "      <td>84797</td>\n",
       "      <td>love is in the air  beef fondue   sauces</td>\n",
       "      <td>25</td>\n",
       "      <td>2004-02-23</td>\n",
       "      <td>i think a fondue is a very romantic casual din...</td>\n",
       "      <td>12</td>\n",
       "    </tr>\n",
       "    <tr>\n",
       "      <th>...</th>\n",
       "      <td>...</td>\n",
       "      <td>...</td>\n",
       "      <td>...</td>\n",
       "      <td>...</td>\n",
       "      <td>...</td>\n",
       "      <td>...</td>\n",
       "    </tr>\n",
       "    <tr>\n",
       "      <th>29995</th>\n",
       "      <td>267661</td>\n",
       "      <td>zurie s holey rustic olive and cheddar bread</td>\n",
       "      <td>80</td>\n",
       "      <td>2007-11-25</td>\n",
       "      <td>this is based on a french recipe but i changed...</td>\n",
       "      <td>10</td>\n",
       "    </tr>\n",
       "    <tr>\n",
       "      <th>29996</th>\n",
       "      <td>386977</td>\n",
       "      <td>zwetschgenkuchen  bavarian plum cake</td>\n",
       "      <td>240</td>\n",
       "      <td>2009-08-24</td>\n",
       "      <td>this is a traditional fresh plum cake, thought...</td>\n",
       "      <td>11</td>\n",
       "    </tr>\n",
       "    <tr>\n",
       "      <th>29997</th>\n",
       "      <td>103312</td>\n",
       "      <td>zwiebelkuchen   southwest german onion cake</td>\n",
       "      <td>75</td>\n",
       "      <td>2004-11-03</td>\n",
       "      <td>this is a traditional late summer early fall s...</td>\n",
       "      <td>13</td>\n",
       "    </tr>\n",
       "    <tr>\n",
       "      <th>29998</th>\n",
       "      <td>486161</td>\n",
       "      <td>zydeco soup</td>\n",
       "      <td>60</td>\n",
       "      <td>2012-08-29</td>\n",
       "      <td>this is a delicious soup that i originally fou...</td>\n",
       "      <td>22</td>\n",
       "    </tr>\n",
       "    <tr>\n",
       "      <th>29999</th>\n",
       "      <td>298512</td>\n",
       "      <td>cookies by design   cookies on a stick</td>\n",
       "      <td>29</td>\n",
       "      <td>2008-04-15</td>\n",
       "      <td>i've heard of the 'cookies by design' company,...</td>\n",
       "      <td>10</td>\n",
       "    </tr>\n",
       "  </tbody>\n",
       "</table>\n",
       "<p>30000 rows × 6 columns</p>\n",
       "</div>"
      ],
      "text/plain": [
       "           id                                          name  minutes  \\\n",
       "index                                                                  \n",
       "0       44123         george s at the cove  black bean soup       90   \n",
       "1       67664            healthy for them  yogurt popsicles       10   \n",
       "2       38798                  i can t believe it s spinach       30   \n",
       "3       35173                          italian  gut busters       45   \n",
       "4       84797      love is in the air  beef fondue   sauces       25   \n",
       "...       ...                                           ...      ...   \n",
       "29995  267661  zurie s holey rustic olive and cheddar bread       80   \n",
       "29996  386977          zwetschgenkuchen  bavarian plum cake      240   \n",
       "29997  103312   zwiebelkuchen   southwest german onion cake       75   \n",
       "29998  486161                                   zydeco soup       60   \n",
       "29999  298512        cookies by design   cookies on a stick       29   \n",
       "\n",
       "       submitted                                        description  \\\n",
       "index                                                                 \n",
       "0     2002-10-25  an original recipe created by chef scott meska...   \n",
       "1     2003-07-26  my children and their friends ask for my homem...   \n",
       "2     2002-08-29            these were so go, it surprised even me.   \n",
       "3     2002-07-27  my sister-in-law made these for us at a family...   \n",
       "4     2004-02-23  i think a fondue is a very romantic casual din...   \n",
       "...          ...                                                ...   \n",
       "29995 2007-11-25  this is based on a french recipe but i changed...   \n",
       "29996 2009-08-24  this is a traditional fresh plum cake, thought...   \n",
       "29997 2004-11-03  this is a traditional late summer early fall s...   \n",
       "29998 2012-08-29  this is a delicious soup that i originally fou...   \n",
       "29999 2008-04-15  i've heard of the 'cookies by design' company,...   \n",
       "\n",
       "       n_ingredients  \n",
       "index                 \n",
       "0                 18  \n",
       "1                  3  \n",
       "2                  8  \n",
       "3                  9  \n",
       "4                 12  \n",
       "...              ...  \n",
       "29995             10  \n",
       "29996             11  \n",
       "29997             13  \n",
       "29998             22  \n",
       "29999             10  \n",
       "\n",
       "[30000 rows x 6 columns]"
      ]
     },
     "execution_count": 23,
     "metadata": {},
     "output_type": "execute_result"
    }
   ],
   "source": [
    "recipes_sample_with_tags_ingredients.drop([\"contributor_id\", \"n_steps\",\"n_tags\",\"tags\",\"ingredients\"], axis=1, inplace=True)\n",
    "recipes_sample_with_tags_ingredients"
   ]
  },
  {
   "cell_type": "markdown",
   "metadata": {},
   "source": [
    "2. Случайным образом выберите 5% строк из каждой таблицы и сохраните две таблицы на разные листы в один файл `recipes.xlsx`. Дайте листам названия \"Рецепты\" и \"Отзывы\", соответствующие содержанию таблиц. "
   ]
  },
  {
   "cell_type": "code",
   "execution_count": 24,
   "metadata": {},
   "outputs": [],
   "source": [
    "path = \"recipes.xlsx\"\n",
    "coeff = 0.05\n",
    "writer = pd.ExcelWriter(path)\n",
    "new_recipes = recipes_sample_with_tags_ingredients.sample(frac = coeff)\n",
    "new_recipes.to_excel(writer, sheet_name='Рецепты') "
   ]
  },
  {
   "cell_type": "code",
   "execution_count": 25,
   "metadata": {},
   "outputs": [],
   "source": [
    "new_reviews = reviews_sample.sample(frac = coeff)\n",
    "new_reviews.to_excel(writer, sheet_name='Отзывы') \n",
    "writer.save()"
   ]
  },
  {
   "cell_type": "markdown",
   "metadata": {},
   "source": [
    "3. Используя `xlwings`, добавьте на лист `Рецепты` столбец `seconds_assign`, показывающий время выполнения рецепта в секундах. Выполните задание при помощи присваивания массива значений диапазону ячеек."
   ]
  },
  {
   "cell_type": "code",
   "execution_count": 26,
   "metadata": {},
   "outputs": [],
   "source": [
    "wb = xw.Book(path)\n",
    "sheet = wb.sheets[\"Рецепты\"]\n",
    "sheet.range(\"H1\").value = \"seconds_assign\"\n",
    "sheet.range(\"H1\").api.font_object.font_style.set('bold')\n",
    "sheet.range(\"H2:H1501\").options(transpose=True).value = (new_recipes[\"minutes\"] * 60).to_numpy()"
   ]
  },
  {
   "cell_type": "markdown",
   "metadata": {},
   "source": [
    "4. Используя `xlwings`, добавьте на лист `Рецепты` столбец `seconds_formula`, показывающий время выполнения рецепта в секундах. Выполните задание при помощи формул Excel."
   ]
  },
  {
   "cell_type": "code",
   "execution_count": 28,
   "metadata": {},
   "outputs": [],
   "source": [
    "sheet.range(\"I1\").value = \"seconds_formula\"\n",
    "sheet.range(\"I1\").api.font_object.font_style.set('bold')\n",
    "sheet.range(\"I2\").formula = \"=D2*60\"\n",
    "sheet.range(\"I2\").api.autofill(type=xw.constants.AutoFillType.xlFillDefault, destination=sheet.range(\"I2:I1501\").api)"
   ]
  },
  {
   "cell_type": "markdown",
   "metadata": {},
   "source": [
    "5. Сделайте названия всех добавленных столбцов полужирными и выровняйте по центру ячейки."
   ]
  },
  {
   "cell_type": "code",
   "execution_count": 30,
   "metadata": {},
   "outputs": [],
   "source": [
    "sheet.range(\"J1\").value = \"n_reviews\"\n",
    "sheet.range(\"J1\").api.font_object.font_style.set('bold')\n",
    "\n",
    "n = str(len(new_reviews)+1)\n",
    "sheet.range(\"J2\").formula = f'=COUNTIF(Отзывы!$C$2:$C${n}, \"=\"&B2)'\n",
    "sheet.range('J2').api.autofill(type=xw.constants.AutoFillType.xlFillDefault, destination=sheet.range(\"J2:J1501\").api)"
   ]
  },
  {
   "cell_type": "markdown",
   "metadata": {},
   "source": [
    "6. Раскрасьте ячейки столбца `minutes` в соответствии со следующим правилом: если рецепт выполняется быстрее 5 минут, то цвет - зеленый; от 5 до 10 минут - жёлтый; и больше 10 - красный."
   ]
  },
  {
   "cell_type": "code",
   "execution_count": 31,
   "metadata": {},
   "outputs": [],
   "source": [
    "sheet['H1:J1'].api.horizontalalignment = xw.constants.HAlign.xlHAlignCenter\n",
    "\n",
    "table = xw.Range(\"A1:I1501\")\n",
    "table.columns[1].column_width = 50\n",
    "for i in range(4, 9):\n",
    "    table.columns[i].column_width = 25"
   ]
  },
  {
   "cell_type": "markdown",
   "metadata": {},
   "source": [
    "7. Добавьте на лист `Рецепты`  столбец `n_reviews`, содержащий кол-во отзывов для этого рецепта. Выполните задание при помощи формул Excel."
   ]
  },
  {
   "cell_type": "code",
   "execution_count": 32,
   "metadata": {},
   "outputs": [],
   "source": [
    "from enum import Enum\n",
    "\n",
    "class Colors(Enum):\n",
    "    GREEN = (0, 255, 0)\n",
    "    YELLOW = (255, 255, 0) \n",
    "    RED = (255, 0, 0)"
   ]
  },
  {
   "cell_type": "code",
   "execution_count": 33,
   "metadata": {},
   "outputs": [],
   "source": [
    "values = sheet.range(\"D2:D1501\").value\n",
    "\n",
    "for i in range(len(values)):\n",
    "    \n",
    "    if values[i] <= 5:\n",
    "        sheet.range(f\"D{i+2}\").color = Colors.GREEN.value\n",
    "    \n",
    "    elif 5 < values[i] <= 10:\n",
    "        sheet.range(f\"D{i+2}\").color = Colors.YELLOW.value\n",
    "    \n",
    "    else:\n",
    "        sheet.range(f\"D{i+2}\").color =  Colors.RED.value"
   ]
  },
  {
   "cell_type": "markdown",
   "metadata": {},
   "source": [
    "## Лабораторная работа 7.2"
   ]
  },
  {
   "cell_type": "markdown",
   "metadata": {},
   "source": [
    "8. Напишите функцию `validate()`, которая проверяет соответствие всех строк из листа `Отзывы` следующим правилам:\n",
    "    * Рейтинг - это число от 0 до 5 включительно\n",
    "    * Соответствующий рецепт имеется на листе `Рецепты`\n",
    "    \n",
    "В случае несоответствия этим правилам, выделите строку красным цветом"
   ]
  },
  {
   "cell_type": "code",
   "execution_count": null,
   "metadata": {},
   "outputs": [],
   "source": [
    "from typing import Union\n",
    "def validate(data : Union[xw.main.Sheet, xw.main.Book]) -> None:\n",
    "    \n",
    "    sheet = None\n",
    "    if isinstance(data, xw.main.Book):\n",
    "        try:\n",
    "            sheet = data.sheets[\"Отзывы\"]\n",
    "        except Exception as e:\n",
    "            raise ValueError(\"Нет отзывов в данном файле Excel!\")\n",
    "    \n",
    "    elif isinstance(data, xw.main.Sheet):\n",
    "        sheet = data\n",
    "    \n",
    "    else:\n",
    "        raise ValueError(\"data должен принимать либо Book, либо Sheet!\")\n",
    "\n",
    "    rng = sheet.range('A1')\n",
    "    n = rng.current_region.end('down').row\n",
    "\n",
    "    sheet.range(\"H2\").formula = '=COUNTIF(Рецепты!$B$2:Рецепты!$B$1501,\"=\"&C2)>0'\n",
    "    sheet.range(\"H2\").api.autofill(type=xw.constants.AutoFillType.xlFillDefault, destination=sheet.range(f\"H2:H{n}\").api)\n",
    "\n",
    "    for i in range(2, int(n)+1):\n",
    "        \n",
    "        rating = sheet.range(f\"E{i}\").value\n",
    "        exist_flag = sheet.range(f\"H{i}\").value\n",
    "        \n",
    "        if rating not in range(0,6) or not exist_flag:\n",
    "            sheet.range(f\"A{i}:G{i}\").color = Colors.RED.value\n",
    "    \n",
    "    sheet.range('H:H').value = \" \"\n",
    "    \n",
    "new_sheet = wb.sheets[\"Отзывы\"]\n",
    "#validate(new_sheet)\n",
    "validate(wb)\n",
    "wb.save(path)\n",
    "wb.close()"
   ]
  },
  {
   "cell_type": "markdown",
   "metadata": {},
   "source": [
    "9. В файле `recipes_model.csv` находится модель данных предметной области \"рецепты\". При помощи пакета `csv` считайте эти данные. При помощи пакета `xlwings` запишите данные на лист `Модель` книги `recipes_model.xlsx`, начиная с ячейки `A2`, не используя циклы. Сделайте скриншот текущего состояния листа и прикрепите в ячейку ноутбука. "
   ]
  },
  {
   "cell_type": "code",
   "execution_count": 68,
   "metadata": {},
   "outputs": [
    {
     "ename": "CommandError",
     "evalue": "Command failed:\n\t\tOSERROR: -50\n\t\tMESSAGE: Parameter error.\n\t\tCOMMAND: app(pid=28129).open_workbook(workbook_file_name='/Users/maksimkukin/PycharmProjects/Python_EGE/recipes_model.xlsx', update_links=k.do_not_update_links, read_only=None, format=None, password=None, write_reserved_password=None, ignore_read_only_recommended=None, origin=None, delimiter=None, editable=None, notify=None, converter=None, add_to_mru=None, timeout=-1)",
     "output_type": "error",
     "traceback": [
      "\u001b[0;31m---------------------------------------------------------------------------\u001b[0m",
      "\u001b[0;31mKeyError\u001b[0m                                  Traceback (most recent call last)",
      "File \u001b[0;32m~/opt/anaconda3/lib/python3.9/site-packages/xlwings/main.py:4277\u001b[0m, in \u001b[0;36mBooks.open\u001b[0;34m(self, fullname, update_links, read_only, format, password, write_res_password, ignore_read_only_recommended, origin, delimiter, editable, notify, converter, add_to_mru, local, corrupt_load)\u001b[0m\n\u001b[1;32m   4276\u001b[0m \u001b[38;5;28;01mtry\u001b[39;00m:\n\u001b[0;32m-> 4277\u001b[0m     impl \u001b[38;5;241m=\u001b[39m \u001b[38;5;28;43mself\u001b[39;49m\u001b[38;5;241;43m.\u001b[39;49m\u001b[43mimpl\u001b[49m\u001b[43m(\u001b[49m\u001b[43mname\u001b[49m\u001b[43m)\u001b[49m\n\u001b[1;32m   4278\u001b[0m     \u001b[38;5;28;01mif\u001b[39;00m \u001b[38;5;129;01mnot\u001b[39;00m os\u001b[38;5;241m.\u001b[39mpath\u001b[38;5;241m.\u001b[39msamefile(impl\u001b[38;5;241m.\u001b[39mfullname, fullname):\n",
      "File \u001b[0;32m~/opt/anaconda3/lib/python3.9/site-packages/xlwings/_xlmac.py:225\u001b[0m, in \u001b[0;36mBooks.__call__\u001b[0;34m(self, name_or_index)\u001b[0m\n\u001b[1;32m    224\u001b[0m \u001b[38;5;28;01mif\u001b[39;00m \u001b[38;5;129;01mnot\u001b[39;00m b\u001b[38;5;241m.\u001b[39mxl\u001b[38;5;241m.\u001b[39mexists():\n\u001b[0;32m--> 225\u001b[0m     \u001b[38;5;28;01mraise\u001b[39;00m \u001b[38;5;167;01mKeyError\u001b[39;00m(name_or_index)\n\u001b[1;32m    226\u001b[0m \u001b[38;5;28;01mreturn\u001b[39;00m b\n",
      "\u001b[0;31mKeyError\u001b[0m: 'recipes_model.xlsx'",
      "\nDuring handling of the above exception, another exception occurred:\n",
      "\u001b[0;31mEventError\u001b[0m                                Traceback (most recent call last)",
      "File \u001b[0;32m~/opt/anaconda3/lib/python3.9/site-packages/aeosa/appscript/reference.py:482\u001b[0m, in \u001b[0;36mCommand.__call__\u001b[0;34m(self, *args, **kargs)\u001b[0m\n\u001b[1;32m    481\u001b[0m \u001b[38;5;28;01mtry\u001b[39;00m:\n\u001b[0;32m--> 482\u001b[0m \t\u001b[38;5;28;01mreturn\u001b[39;00m \u001b[38;5;28;43mself\u001b[39;49m\u001b[38;5;241;43m.\u001b[39;49m\u001b[43mAS_appdata\u001b[49m\u001b[38;5;241;43m.\u001b[39;49m\u001b[43mtarget\u001b[49m\u001b[43m(\u001b[49m\u001b[43m)\u001b[49m\u001b[38;5;241;43m.\u001b[39;49m\u001b[43mevent\u001b[49m\u001b[43m(\u001b[49m\u001b[38;5;28;43mself\u001b[39;49m\u001b[38;5;241;43m.\u001b[39;49m\u001b[43m_code\u001b[49m\u001b[43m,\u001b[49m\u001b[43m \u001b[49m\u001b[43mparams\u001b[49m\u001b[43m,\u001b[49m\u001b[43m \u001b[49m\u001b[43matts\u001b[49m\u001b[43m,\u001b[49m\u001b[43m \u001b[49m\u001b[43mcodecs\u001b[49m\u001b[38;5;241;43m=\u001b[39;49m\u001b[38;5;28;43mself\u001b[39;49m\u001b[38;5;241;43m.\u001b[39;49m\u001b[43mAS_appdata\u001b[49m\u001b[43m)\u001b[49m\u001b[38;5;241;43m.\u001b[39;49m\u001b[43msend\u001b[49m\u001b[43m(\u001b[49m\u001b[43mtimeout\u001b[49m\u001b[43m,\u001b[49m\u001b[43m \u001b[49m\u001b[43msendflags\u001b[49m\u001b[43m)\u001b[49m\n\u001b[1;32m    483\u001b[0m \u001b[38;5;28;01mexcept\u001b[39;00m aem\u001b[38;5;241m.\u001b[39mEventError \u001b[38;5;28;01mas\u001b[39;00m e:\n",
      "File \u001b[0;32m~/opt/anaconda3/lib/python3.9/site-packages/aeosa/aem/aemsend.py:92\u001b[0m, in \u001b[0;36mEvent.send\u001b[0;34m(self, timeout, flags)\u001b[0m\n\u001b[1;32m     91\u001b[0m \t\t\terrormsg \u001b[38;5;241m=\u001b[39m _defaultcodecs\u001b[38;5;241m.\u001b[39munpack(errormsg)\n\u001b[0;32m---> 92\u001b[0m \t\t\u001b[38;5;28;01mraise\u001b[39;00m EventError(errornum, errormsg, eventresult)\n\u001b[1;32m     93\u001b[0m \u001b[38;5;28;01mif\u001b[39;00m kae\u001b[38;5;241m.\u001b[39mkeyAEResult \u001b[38;5;129;01min\u001b[39;00m eventresult: \u001b[38;5;66;03m# application has returned a value\u001b[39;00m\n\u001b[1;32m     94\u001b[0m \t\u001b[38;5;66;03m# note: unpack result with [optionally] user-specified codecs, allowing clients to customise unpacking (e.g. appscript)\u001b[39;00m\n",
      "\u001b[0;31mEventError\u001b[0m: Command failed: Parameter error. (-50)",
      "\nThe above exception was the direct cause of the following exception:\n",
      "\u001b[0;31mCommandError\u001b[0m                              Traceback (most recent call last)",
      "Input \u001b[0;32mIn [68]\u001b[0m, in \u001b[0;36m<cell line: 5>\u001b[0;34m()\u001b[0m\n\u001b[1;32m      3\u001b[0m     data \u001b[38;5;241m=\u001b[39m \u001b[38;5;28mlist\u001b[39m(reader)\n\u001b[1;32m      4\u001b[0m f \u001b[38;5;241m=\u001b[39m \u001b[38;5;28mopen\u001b[39m(\u001b[38;5;124m'\u001b[39m\u001b[38;5;124mrecipes_model.xlsx\u001b[39m\u001b[38;5;124m'\u001b[39m, \u001b[38;5;124m'\u001b[39m\u001b[38;5;124mw+\u001b[39m\u001b[38;5;124m'\u001b[39m)\n\u001b[0;32m----> 5\u001b[0m book \u001b[38;5;241m=\u001b[39m \u001b[43mxw\u001b[49m\u001b[38;5;241;43m.\u001b[39;49m\u001b[43mBook\u001b[49m\u001b[43m(\u001b[49m\u001b[38;5;124;43m'\u001b[39;49m\u001b[38;5;124;43mrecipes_model.xlsx\u001b[39;49m\u001b[38;5;124;43m'\u001b[39;49m\u001b[43m)\u001b[49m\n\u001b[1;32m      7\u001b[0m sheet \u001b[38;5;241m=\u001b[39m book\u001b[38;5;241m.\u001b[39msheets[\u001b[38;5;124m'\u001b[39m\u001b[38;5;124mМодель книги\u001b[39m\u001b[38;5;124m'\u001b[39m]\n\u001b[1;32m      8\u001b[0m sheet\u001b[38;5;241m.\u001b[39mrange(\u001b[38;5;124m'\u001b[39m\u001b[38;5;124mA2\u001b[39m\u001b[38;5;124m'\u001b[39m)\u001b[38;5;241m.\u001b[39mvalue \u001b[38;5;241m=\u001b[39m data\n",
      "File \u001b[0;32m~/opt/anaconda3/lib/python3.9/site-packages/xlwings/main.py:682\u001b[0m, in \u001b[0;36mBook.__init__\u001b[0;34m(self, fullname, update_links, read_only, format, password, write_res_password, ignore_read_only_recommended, origin, delimiter, editable, notify, converter, add_to_mru, local, corrupt_load, impl)\u001b[0m\n\u001b[1;32m    680\u001b[0m     \u001b[38;5;28;01mif\u001b[39;00m \u001b[38;5;129;01mnot\u001b[39;00m app:\n\u001b[1;32m    681\u001b[0m         app \u001b[38;5;241m=\u001b[39m App(add_book\u001b[38;5;241m=\u001b[39m\u001b[38;5;28;01mFalse\u001b[39;00m)\n\u001b[0;32m--> 682\u001b[0m     impl \u001b[38;5;241m=\u001b[39m \u001b[43mapp\u001b[49m\u001b[38;5;241;43m.\u001b[39;49m\u001b[43mbooks\u001b[49m\u001b[38;5;241;43m.\u001b[39;49m\u001b[43mopen\u001b[49m\u001b[43m(\u001b[49m\u001b[43mfullname\u001b[49m\u001b[43m,\u001b[49m\u001b[43m \u001b[49m\u001b[43mupdate_links\u001b[49m\u001b[43m,\u001b[49m\u001b[43m \u001b[49m\u001b[43mread_only\u001b[49m\u001b[43m,\u001b[49m\u001b[43m \u001b[49m\u001b[38;5;28;43mformat\u001b[39;49m\u001b[43m,\u001b[49m\u001b[43m \u001b[49m\u001b[43mpassword\u001b[49m\u001b[43m,\u001b[49m\u001b[43m \u001b[49m\u001b[43mwrite_res_password\u001b[49m\u001b[43m,\u001b[49m\n\u001b[1;32m    683\u001b[0m \u001b[43m                          \u001b[49m\u001b[43mignore_read_only_recommended\u001b[49m\u001b[43m,\u001b[49m\u001b[43m \u001b[49m\u001b[43morigin\u001b[49m\u001b[43m,\u001b[49m\u001b[43m \u001b[49m\u001b[43mdelimiter\u001b[49m\u001b[43m,\u001b[49m\u001b[43m \u001b[49m\u001b[43meditable\u001b[49m\u001b[43m,\u001b[49m\u001b[43m \u001b[49m\u001b[43mnotify\u001b[49m\u001b[43m,\u001b[49m\u001b[43m \u001b[49m\u001b[43mconverter\u001b[49m\u001b[43m,\u001b[49m\n\u001b[1;32m    684\u001b[0m \u001b[43m                          \u001b[49m\u001b[43madd_to_mru\u001b[49m\u001b[43m,\u001b[49m\u001b[43m \u001b[49m\u001b[43mlocal\u001b[49m\u001b[43m,\u001b[49m\u001b[43m \u001b[49m\u001b[43mcorrupt_load\u001b[49m\u001b[43m)\u001b[49m\u001b[38;5;241m.\u001b[39mimpl\n\u001b[1;32m    685\u001b[0m \u001b[38;5;28;01melif\u001b[39;00m \u001b[38;5;28mlen\u001b[39m(candidates) \u001b[38;5;241m>\u001b[39m \u001b[38;5;241m1\u001b[39m:\n\u001b[1;32m    686\u001b[0m     \u001b[38;5;28;01mraise\u001b[39;00m \u001b[38;5;167;01mException\u001b[39;00m(\u001b[38;5;124m\"\u001b[39m\u001b[38;5;124mWorkbook \u001b[39m\u001b[38;5;124m'\u001b[39m\u001b[38;5;132;01m%s\u001b[39;00m\u001b[38;5;124m'\u001b[39m\u001b[38;5;124m is open in more than one Excel instance.\u001b[39m\u001b[38;5;124m\"\u001b[39m \u001b[38;5;241m%\u001b[39m fullname)\n",
      "File \u001b[0;32m~/opt/anaconda3/lib/python3.9/site-packages/xlwings/main.py:4283\u001b[0m, in \u001b[0;36mBooks.open\u001b[0;34m(self, fullname, update_links, read_only, format, password, write_res_password, ignore_read_only_recommended, origin, delimiter, editable, notify, converter, add_to_mru, local, corrupt_load)\u001b[0m\n\u001b[1;32m   4279\u001b[0m         \u001b[38;5;28;01mraise\u001b[39;00m \u001b[38;5;167;01mValueError\u001b[39;00m(\n\u001b[1;32m   4280\u001b[0m             \u001b[38;5;124m\"\u001b[39m\u001b[38;5;124mCannot open two workbooks named \u001b[39m\u001b[38;5;124m'\u001b[39m\u001b[38;5;132;01m%s\u001b[39;00m\u001b[38;5;124m'\u001b[39m\u001b[38;5;124m, even if they are saved in different locations.\u001b[39m\u001b[38;5;124m\"\u001b[39m \u001b[38;5;241m%\u001b[39m name\n\u001b[1;32m   4281\u001b[0m         )\n\u001b[1;32m   4282\u001b[0m \u001b[38;5;28;01mexcept\u001b[39;00m \u001b[38;5;167;01mKeyError\u001b[39;00m:\n\u001b[0;32m-> 4283\u001b[0m     impl \u001b[38;5;241m=\u001b[39m \u001b[38;5;28;43mself\u001b[39;49m\u001b[38;5;241;43m.\u001b[39;49m\u001b[43mimpl\u001b[49m\u001b[38;5;241;43m.\u001b[39;49m\u001b[43mopen\u001b[49m\u001b[43m(\u001b[49m\u001b[43mfullname\u001b[49m\u001b[43m,\u001b[49m\u001b[43m \u001b[49m\u001b[43mupdate_links\u001b[49m\u001b[43m,\u001b[49m\u001b[43m \u001b[49m\u001b[43mread_only\u001b[49m\u001b[43m,\u001b[49m\u001b[43m \u001b[49m\u001b[38;5;28;43mformat\u001b[39;49m\u001b[43m,\u001b[49m\u001b[43m \u001b[49m\u001b[43mpassword\u001b[49m\u001b[43m,\u001b[49m\u001b[43m \u001b[49m\u001b[43mwrite_res_password\u001b[49m\u001b[43m,\u001b[49m\n\u001b[1;32m   4284\u001b[0m \u001b[43m                          \u001b[49m\u001b[43mignore_read_only_recommended\u001b[49m\u001b[43m,\u001b[49m\u001b[43m \u001b[49m\u001b[43morigin\u001b[49m\u001b[43m,\u001b[49m\u001b[43m \u001b[49m\u001b[43mdelimiter\u001b[49m\u001b[43m,\u001b[49m\u001b[43m \u001b[49m\u001b[43meditable\u001b[49m\u001b[43m,\u001b[49m\u001b[43m \u001b[49m\u001b[43mnotify\u001b[49m\u001b[43m,\u001b[49m\u001b[43m \u001b[49m\u001b[43mconverter\u001b[49m\u001b[43m,\u001b[49m\n\u001b[1;32m   4285\u001b[0m \u001b[43m                          \u001b[49m\u001b[43madd_to_mru\u001b[49m\u001b[43m,\u001b[49m\u001b[43m \u001b[49m\u001b[43mlocal\u001b[49m\u001b[43m,\u001b[49m\u001b[43m \u001b[49m\u001b[43mcorrupt_load\u001b[49m\u001b[43m)\u001b[49m\n\u001b[1;32m   4286\u001b[0m \u001b[38;5;28;01mreturn\u001b[39;00m Book(impl\u001b[38;5;241m=\u001b[39mimpl)\n",
      "File \u001b[0;32m~/opt/anaconda3/lib/python3.9/site-packages/xlwings/_xlmac.py:260\u001b[0m, in \u001b[0;36mBooks.open\u001b[0;34m(self, fullname, update_links, read_only, format, password, write_res_password, ignore_read_only_recommended, origin, delimiter, editable, notify, converter, add_to_mru, local, corrupt_load)\u001b[0m\n\u001b[1;32m    258\u001b[0m     \u001b[38;5;28mself\u001b[39m\u001b[38;5;241m.\u001b[39mapp\u001b[38;5;241m.\u001b[39mactivate()\n\u001b[1;32m    259\u001b[0m filename \u001b[38;5;241m=\u001b[39m os\u001b[38;5;241m.\u001b[39mpath\u001b[38;5;241m.\u001b[39mbasename(fullname)\n\u001b[0;32m--> 260\u001b[0m \u001b[38;5;28;43mself\u001b[39;49m\u001b[38;5;241;43m.\u001b[39;49m\u001b[43mapp\u001b[49m\u001b[38;5;241;43m.\u001b[39;49m\u001b[43mxl\u001b[49m\u001b[38;5;241;43m.\u001b[39;49m\u001b[43mopen_workbook\u001b[49m\u001b[43m(\u001b[49m\u001b[43mworkbook_file_name\u001b[49m\u001b[38;5;241;43m=\u001b[39;49m\u001b[43mfullname\u001b[49m\u001b[43m,\u001b[49m\u001b[43m \u001b[49m\u001b[43mupdate_links\u001b[49m\u001b[38;5;241;43m=\u001b[39;49m\u001b[43mupdate_links\u001b[49m\u001b[43m,\u001b[49m\u001b[43m \u001b[49m\u001b[43mread_only\u001b[49m\u001b[38;5;241;43m=\u001b[39;49m\u001b[43mread_only\u001b[49m\u001b[43m,\u001b[49m\n\u001b[1;32m    261\u001b[0m \u001b[43m                          \u001b[49m\u001b[38;5;28;43mformat\u001b[39;49m\u001b[38;5;241;43m=\u001b[39;49m\u001b[38;5;28;43mformat\u001b[39;49m\u001b[43m,\u001b[49m\u001b[43m \u001b[49m\u001b[43mpassword\u001b[49m\u001b[38;5;241;43m=\u001b[39;49m\u001b[43mpassword\u001b[49m\u001b[43m,\u001b[49m\u001b[43m \u001b[49m\u001b[43mwrite_reserved_password\u001b[49m\u001b[38;5;241;43m=\u001b[39;49m\u001b[43mwrite_res_password\u001b[49m\u001b[43m,\u001b[49m\n\u001b[1;32m    262\u001b[0m \u001b[43m                          \u001b[49m\u001b[43mignore_read_only_recommended\u001b[49m\u001b[38;5;241;43m=\u001b[39;49m\u001b[43mignore_read_only_recommended\u001b[49m\u001b[43m,\u001b[49m\n\u001b[1;32m    263\u001b[0m \u001b[43m                          \u001b[49m\u001b[43morigin\u001b[49m\u001b[38;5;241;43m=\u001b[39;49m\u001b[43morigin\u001b[49m\u001b[43m,\u001b[49m\u001b[43m \u001b[49m\u001b[43mdelimiter\u001b[49m\u001b[38;5;241;43m=\u001b[39;49m\u001b[43mdelimiter\u001b[49m\u001b[43m,\u001b[49m\u001b[43m \u001b[49m\u001b[43meditable\u001b[49m\u001b[38;5;241;43m=\u001b[39;49m\u001b[43meditable\u001b[49m\u001b[43m,\u001b[49m\u001b[43m \u001b[49m\u001b[43mnotify\u001b[49m\u001b[38;5;241;43m=\u001b[39;49m\u001b[43mnotify\u001b[49m\u001b[43m,\u001b[49m\n\u001b[1;32m    264\u001b[0m \u001b[43m                          \u001b[49m\u001b[43mconverter\u001b[49m\u001b[38;5;241;43m=\u001b[39;49m\u001b[43mconverter\u001b[49m\u001b[43m,\u001b[49m\u001b[43m \u001b[49m\u001b[43madd_to_mru\u001b[49m\u001b[38;5;241;43m=\u001b[39;49m\u001b[43madd_to_mru\u001b[49m\u001b[43m,\u001b[49m\u001b[43m \u001b[49m\u001b[43mtimeout\u001b[49m\u001b[38;5;241;43m=\u001b[39;49m\u001b[38;5;241;43m-\u001b[39;49m\u001b[38;5;241;43m1\u001b[39;49m\u001b[43m)\u001b[49m\n\u001b[1;32m    265\u001b[0m wb \u001b[38;5;241m=\u001b[39m Book(\u001b[38;5;28mself\u001b[39m\u001b[38;5;241m.\u001b[39mapp, filename)\n\u001b[1;32m    266\u001b[0m \u001b[38;5;28;01mreturn\u001b[39;00m wb\n",
      "File \u001b[0;32m~/opt/anaconda3/lib/python3.9/site-packages/aeosa/appscript/reference.py:518\u001b[0m, in \u001b[0;36mCommand.__call__\u001b[0;34m(self, *args, **kargs)\u001b[0m\n\u001b[1;32m    516\u001b[0m \t\t\t\u001b[38;5;28;01mreturn\u001b[39;00m\n\u001b[1;32m    517\u001b[0m \t\t\u001b[38;5;28;01mraise\u001b[39;00m CommandError(\u001b[38;5;28mself\u001b[39m, (args, kargs), e, \u001b[38;5;28mself\u001b[39m\u001b[38;5;241m.\u001b[39mAS_appdata) \u001b[38;5;28;01mfrom\u001b[39;00m \u001b[38;5;21;01me\u001b[39;00m\n\u001b[0;32m--> 518\u001b[0m \u001b[38;5;28;01mraise\u001b[39;00m CommandError(\u001b[38;5;28mself\u001b[39m, (args, kargs), e, \u001b[38;5;28mself\u001b[39m\u001b[38;5;241m.\u001b[39mAS_appdata) \u001b[38;5;28;01mfrom\u001b[39;00m \u001b[38;5;21;01me\u001b[39;00m\n",
      "\u001b[0;31mCommandError\u001b[0m: Command failed:\n\t\tOSERROR: -50\n\t\tMESSAGE: Parameter error.\n\t\tCOMMAND: app(pid=28129).open_workbook(workbook_file_name='/Users/maksimkukin/PycharmProjects/Python_EGE/recipes_model.xlsx', update_links=k.do_not_update_links, read_only=None, format=None, password=None, write_reserved_password=None, ignore_read_only_recommended=None, origin=None, delimiter=None, editable=None, notify=None, converter=None, add_to_mru=None, timeout=-1)"
     ]
    }
   ],
   "source": [
    "with open('recipes_model.csv', 'r') as file:\n",
    "    reader = csv.reader(file)\n",
    "    data = list(reader)\n",
    "\n",
    "book = xw.Book()\n",
    "\n",
    "sheet = book.sheets['Модель книги']\n",
    "sheet.range('A2').value = data\n",
    "\n",
    "book.save('recipes_model.xlsx')\n",
    "book.close()"
   ]
  },
  {
   "cell_type": "markdown",
   "metadata": {},
   "source": [
    "10. При помощи пакета `xlwings` добавьте в столбец J формулу для описания столбца на языке SQL. Формула должна реализовывать следующую логику:\n",
    "\n",
    "    1\\. в начале строки идут значения из столбцов В и C (значение столбца С приведено к верхнему регистру), разделенные пробелом\n",
    "    \n",
    "    2\\. далее идут слова на основе столбца \"Ключ\"\n",
    "        2.1 если в столбце \"Ключ\" указано значение \"PK\", то дальше через пробел идет ключевое слово \"PRIMARY KEY\"\n",
    "        2.2 если в столбце \"Ключ\" указано значение \"FK\", то дальше через пробел идет ключевое слово \"REFERENCES\", затем значения столбцов H и I в формате \"название_таблицы(название_столбца)\"\n",
    "        \n",
    "    3\\. если в столбце \"Обязательно к заполнению\" указано значение \"Y\" и в столбце \"Ключ\" указано не \"PK\", то дальше через пробел идет ключевое слово \"NOT NULL\".\n",
    "\n",
    "Заполните этой формулой необходимое количество строк, используя \"протягивание\". Количество строк для протягивания определите на основе данных.\n",
    "\n",
    "Сделайте скриншот текущего состояния листа и прикрепите в ячейку ноутбука."
   ]
  },
  {
   "cell_type": "code",
   "execution_count": null,
   "metadata": {},
   "outputs": [],
   "source": []
  },
  {
   "cell_type": "markdown",
   "metadata": {},
   "source": [
    "11. При помощи пакета `xlwings` измените стилизацию листа `Модель`.\n",
    "* для заголовков добавьте заливку цвета `00ccff`\n",
    "* примените автоподбор ширины столбца;\n",
    "* сделайте шрифт заголовков полужирным;\n",
    "* добавьте таблице автофильтр.\n",
    "\n",
    "Сделайте скриншот текущего состояния листа и прикрепите в ячейку ноутбука."
   ]
  },
  {
   "cell_type": "code",
   "execution_count": null,
   "metadata": {},
   "outputs": [],
   "source": []
  },
  {
   "cell_type": "markdown",
   "metadata": {},
   "source": [
    "12. Посчитайте количество атрибутов для каждой из сущностей. Создайте лист `Статистика` и запишите в него результат группировки, начиная с ячейки \"А1\". Визуализируйте полученный результат при помощи столбчатой диаграммы. Сохраните полученную визуализацию на лист `Статистика`, начиная с ячейки \"E2\".  Сделайте скриншот листа `Статистика` и прикрепите в ячейку ноутбука.\n",
    "\n",
    "* Вы можете воспользоваться методами для визуализации, которые поставляются вместе с объектами `pandas` (см. https://pandas.pydata.org/docs/reference/api/pandas.DataFrame.plot) "
   ]
  },
  {
   "cell_type": "code",
   "execution_count": null,
   "metadata": {},
   "outputs": [],
   "source": []
  }
 ],
 "metadata": {
  "kernelspec": {
   "display_name": "Python 3 (ipykernel)",
   "language": "python",
   "name": "python3"
  },
  "language_info": {
   "codemirror_mode": {
    "name": "ipython",
    "version": 3
   },
   "file_extension": ".py",
   "mimetype": "text/x-python",
   "name": "python",
   "nbconvert_exporter": "python",
   "pygments_lexer": "ipython3",
   "version": "3.9.12"
  }
 },
 "nbformat": 4,
 "nbformat_minor": 4
}
